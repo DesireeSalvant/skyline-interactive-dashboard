{
 "cells": [
  {
   "attachments": {},
   "cell_type": "markdown",
   "id": "acb71d6b-26a8-4ba2-9ae6-b728343e2797",
   "metadata": {},
   "source": [
    "# Executive Summary\n",
    "\n",
    "Skyline Gadgets is an online retailer specializing in a diverse range of electronics and accessories, including phones, computers, home electronics, and related categories. As the company scales its operations and transitions from spreadsheet-based tracking to data-driven decision making, this exploratory data analysis (EDA) project provides a foundational understanding of product performance, category-level trends, and revenue-driving behavior.\n",
    "\n",
    "The goal of this analysis is to uncover actionable insights into what sells best, when it sells, and how much revenue is being generated across different segments. Using a cleaned sales dataset and Python-based tools (pandas, NumPy, matplotlib), the analysis explores both summary statistics and time-based trends to assist the business in smarter stocking, targeted promotions, and more effective resource allocation.\n",
    "\n",
    "# Objectives\n",
    "\n",
    "- Clean and prepare historical sales data by handling missing values and standardizing formats  \n",
    "- Create a revenue metric to evaluate performance at both product and category levels  \n",
    "- Identify top-performing products and categories by total revenue  \n",
    "- Analyze monthly revenue trends to detect seasonal or cyclical sales patterns  \n",
    "- Visualize key findings using clear, interpretable charts  \n",
    "- Provide concrete business recommendations and highlight data quality concerns\n"
   ]
  },
  {
   "cell_type": "code",
   "execution_count": null,
   "id": "4220b48a-f000-4a70-92d8-5a1bd27ca05f",
   "metadata": {},
   "outputs": [],
   "source": []
  },
  {
   "cell_type": "markdown",
   "id": "9de1ddfa-3677-4b18-a350-24c2e61748ad",
   "metadata": {},
   "source": [
    "# Step 1: Import Libraries"
   ]
  },
  {
   "cell_type": "code",
   "execution_count": null,
   "id": "f42edbd4-2dbf-4fc8-b6bc-c82a0f087b11",
   "metadata": {},
   "outputs": [],
   "source": []
  },
  {
   "cell_type": "code",
   "execution_count": 1,
   "id": "98ea4aa1-0a48-4b0f-bd7d-dcfcd78188bb",
   "metadata": {},
   "outputs": [],
   "source": [
    "import numpy as np\n",
    "import pandas as pd\n",
    "import matplotlib.pyplot as plt"
   ]
  },
  {
   "cell_type": "code",
   "execution_count": null,
   "id": "977f1600-edd6-4ef1-a7c8-5d2ba6b0de98",
   "metadata": {},
   "outputs": [],
   "source": []
  },
  {
   "cell_type": "markdown",
   "id": "692f4262-6dd3-4b4f-9c46-fc5f7ae613c3",
   "metadata": {},
   "source": [
    "# Step 2: Load Data"
   ]
  },
  {
   "cell_type": "code",
   "execution_count": 2,
   "id": "b5fc57f4-ecbf-4435-a61a-4c5e1a5059a6",
   "metadata": {},
   "outputs": [],
   "source": [
    "data = pd.read_excel(\"May Cohort Sales_data.xlsx\")"
   ]
  },
  {
   "cell_type": "code",
   "execution_count": 3,
   "id": "0474971b-afeb-4c58-b114-e580ccd11721",
   "metadata": {},
   "outputs": [
    {
     "data": {
      "text/html": [
       "<div>\n",
       "<style scoped>\n",
       "    .dataframe tbody tr th:only-of-type {\n",
       "        vertical-align: middle;\n",
       "    }\n",
       "\n",
       "    .dataframe tbody tr th {\n",
       "        vertical-align: top;\n",
       "    }\n",
       "\n",
       "    .dataframe thead th {\n",
       "        text-align: right;\n",
       "    }\n",
       "</style>\n",
       "<table border=\"1\" class=\"dataframe\">\n",
       "  <thead>\n",
       "    <tr style=\"text-align: right;\">\n",
       "      <th></th>\n",
       "      <th>id</th>\n",
       "      <th>product</th>\n",
       "      <th>category</th>\n",
       "      <th>price</th>\n",
       "      <th>quantity</th>\n",
       "      <th>sale_date</th>\n",
       "    </tr>\n",
       "  </thead>\n",
       "  <tbody>\n",
       "    <tr>\n",
       "      <th>0</th>\n",
       "      <td>71</td>\n",
       "      <td>Phone Case</td>\n",
       "      <td>Accessories</td>\n",
       "      <td>NaN</td>\n",
       "      <td>31.0</td>\n",
       "      <td>2024-11-04</td>\n",
       "    </tr>\n",
       "    <tr>\n",
       "      <th>1</th>\n",
       "      <td>28</td>\n",
       "      <td>Monitor</td>\n",
       "      <td>Computers</td>\n",
       "      <td>301.12</td>\n",
       "      <td>NaN</td>\n",
       "      <td>2024-10-11</td>\n",
       "    </tr>\n",
       "    <tr>\n",
       "      <th>2</th>\n",
       "      <td>92</td>\n",
       "      <td>Keyboard</td>\n",
       "      <td>Accessories</td>\n",
       "      <td>122.68</td>\n",
       "      <td>29.0</td>\n",
       "      <td>2024-10-31</td>\n",
       "    </tr>\n",
       "    <tr>\n",
       "      <th>3</th>\n",
       "      <td>57</td>\n",
       "      <td>Action Figure</td>\n",
       "      <td>Toys</td>\n",
       "      <td>130.38</td>\n",
       "      <td>16.0</td>\n",
       "      <td>2024-10-04</td>\n",
       "    </tr>\n",
       "    <tr>\n",
       "      <th>4</th>\n",
       "      <td>70</td>\n",
       "      <td>USB Cable</td>\n",
       "      <td>Accessories</td>\n",
       "      <td>216.03</td>\n",
       "      <td>40.0</td>\n",
       "      <td>2024-10-31</td>\n",
       "    </tr>\n",
       "  </tbody>\n",
       "</table>\n",
       "</div>"
      ],
      "text/plain": [
       "   id        product     category   price  quantity  sale_date\n",
       "0  71     Phone Case  Accessories     NaN      31.0 2024-11-04\n",
       "1  28        Monitor    Computers  301.12       NaN 2024-10-11\n",
       "2  92       Keyboard  Accessories  122.68      29.0 2024-10-31\n",
       "3  57  Action Figure         Toys  130.38      16.0 2024-10-04\n",
       "4  70      USB Cable  Accessories  216.03      40.0 2024-10-31"
      ]
     },
     "execution_count": 3,
     "metadata": {},
     "output_type": "execute_result"
    }
   ],
   "source": [
    "data.head()"
   ]
  },
  {
   "cell_type": "code",
   "execution_count": null,
   "id": "e64ea6d6-a0a8-4ab3-9473-3d2955cefbc4",
   "metadata": {},
   "outputs": [],
   "source": []
  },
  {
   "cell_type": "markdown",
   "id": "4383f0aa-5e68-4191-8ce1-9f496e59aa86",
   "metadata": {},
   "source": [
    "## Quick Check"
   ]
  },
  {
   "cell_type": "code",
   "execution_count": 4,
   "id": "4ca4db08-0364-4c13-aa00-9a508c25ae59",
   "metadata": {},
   "outputs": [
    {
     "data": {
      "text/plain": [
       "(105, 6)"
      ]
     },
     "execution_count": 4,
     "metadata": {},
     "output_type": "execute_result"
    }
   ],
   "source": [
    "data.shape"
   ]
  },
  {
   "cell_type": "code",
   "execution_count": null,
   "id": "d6753a90-bbb4-4b67-abbd-b68bd65ef3aa",
   "metadata": {},
   "outputs": [],
   "source": []
  },
  {
   "cell_type": "code",
   "execution_count": 5,
   "id": "3b0bc4ac-1b1c-4133-a53d-be1c5ff42ffd",
   "metadata": {},
   "outputs": [
    {
     "data": {
      "text/html": [
       "<div>\n",
       "<style scoped>\n",
       "    .dataframe tbody tr th:only-of-type {\n",
       "        vertical-align: middle;\n",
       "    }\n",
       "\n",
       "    .dataframe tbody tr th {\n",
       "        vertical-align: top;\n",
       "    }\n",
       "\n",
       "    .dataframe thead th {\n",
       "        text-align: right;\n",
       "    }\n",
       "</style>\n",
       "<table border=\"1\" class=\"dataframe\">\n",
       "  <thead>\n",
       "    <tr style=\"text-align: right;\">\n",
       "      <th></th>\n",
       "      <th>id</th>\n",
       "      <th>price</th>\n",
       "      <th>quantity</th>\n",
       "      <th>sale_date</th>\n",
       "    </tr>\n",
       "  </thead>\n",
       "  <tbody>\n",
       "    <tr>\n",
       "      <th>count</th>\n",
       "      <td>105.000000</td>\n",
       "      <td>78.000000</td>\n",
       "      <td>86.000000</td>\n",
       "      <td>84</td>\n",
       "    </tr>\n",
       "    <tr>\n",
       "      <th>mean</th>\n",
       "      <td>49.457143</td>\n",
       "      <td>253.579231</td>\n",
       "      <td>28.093023</td>\n",
       "      <td>2024-07-16 05:08:34.285714176</td>\n",
       "    </tr>\n",
       "    <tr>\n",
       "      <th>min</th>\n",
       "      <td>1.000000</td>\n",
       "      <td>20.350000</td>\n",
       "      <td>1.000000</td>\n",
       "      <td>2024-01-16 00:00:00</td>\n",
       "    </tr>\n",
       "    <tr>\n",
       "      <th>25%</th>\n",
       "      <td>24.000000</td>\n",
       "      <td>140.750000</td>\n",
       "      <td>17.000000</td>\n",
       "      <td>2024-02-27 18:00:00</td>\n",
       "    </tr>\n",
       "    <tr>\n",
       "      <th>50%</th>\n",
       "      <td>49.000000</td>\n",
       "      <td>262.205000</td>\n",
       "      <td>28.000000</td>\n",
       "      <td>2024-08-23 12:00:00</td>\n",
       "    </tr>\n",
       "    <tr>\n",
       "      <th>75%</th>\n",
       "      <td>75.000000</td>\n",
       "      <td>364.890000</td>\n",
       "      <td>40.750000</td>\n",
       "      <td>2024-10-31 00:00:00</td>\n",
       "    </tr>\n",
       "    <tr>\n",
       "      <th>max</th>\n",
       "      <td>100.000000</td>\n",
       "      <td>492.960000</td>\n",
       "      <td>50.000000</td>\n",
       "      <td>2024-12-31 00:00:00</td>\n",
       "    </tr>\n",
       "    <tr>\n",
       "      <th>std</th>\n",
       "      <td>29.458585</td>\n",
       "      <td>130.127063</td>\n",
       "      <td>14.348296</td>\n",
       "      <td>NaN</td>\n",
       "    </tr>\n",
       "  </tbody>\n",
       "</table>\n",
       "</div>"
      ],
      "text/plain": [
       "               id       price   quantity                      sale_date\n",
       "count  105.000000   78.000000  86.000000                             84\n",
       "mean    49.457143  253.579231  28.093023  2024-07-16 05:08:34.285714176\n",
       "min      1.000000   20.350000   1.000000            2024-01-16 00:00:00\n",
       "25%     24.000000  140.750000  17.000000            2024-02-27 18:00:00\n",
       "50%     49.000000  262.205000  28.000000            2024-08-23 12:00:00\n",
       "75%     75.000000  364.890000  40.750000            2024-10-31 00:00:00\n",
       "max    100.000000  492.960000  50.000000            2024-12-31 00:00:00\n",
       "std     29.458585  130.127063  14.348296                            NaN"
      ]
     },
     "execution_count": 5,
     "metadata": {},
     "output_type": "execute_result"
    }
   ],
   "source": [
    "# Data Summary\n",
    "data.describe()"
   ]
  },
  {
   "cell_type": "code",
   "execution_count": null,
   "id": "923ad6b5-0a1b-4068-ab50-d3d380e4d22b",
   "metadata": {},
   "outputs": [],
   "source": []
  },
  {
   "cell_type": "code",
   "execution_count": 6,
   "id": "1564d1f7-3aba-4d7b-831a-3092011920ac",
   "metadata": {},
   "outputs": [
    {
     "name": "stdout",
     "output_type": "stream",
     "text": [
      "<class 'pandas.core.frame.DataFrame'>\n",
      "RangeIndex: 105 entries, 0 to 104\n",
      "Data columns (total 6 columns):\n",
      " #   Column     Non-Null Count  Dtype         \n",
      "---  ------     --------------  -----         \n",
      " 0   id         105 non-null    int64         \n",
      " 1   product    105 non-null    object        \n",
      " 2   category   105 non-null    object        \n",
      " 3   price      78 non-null     float64       \n",
      " 4   quantity   86 non-null     float64       \n",
      " 5   sale_date  84 non-null     datetime64[ns]\n",
      "dtypes: datetime64[ns](1), float64(2), int64(1), object(2)\n",
      "memory usage: 5.1+ KB\n"
     ]
    }
   ],
   "source": [
    "# Datatypes and Missing Values\n",
    "data.info()"
   ]
  },
  {
   "cell_type": "code",
   "execution_count": null,
   "id": "600640ac-cbeb-49e3-802b-227dcd021867",
   "metadata": {},
   "outputs": [],
   "source": []
  },
  {
   "cell_type": "markdown",
   "id": "25fbd64e-0754-436d-8a90-ee7c1d3ca6c2",
   "metadata": {},
   "source": [
    "## Handling Missing Values & Incorrect Datatypes before Step 3"
   ]
  },
  {
   "cell_type": "code",
   "execution_count": null,
   "id": "c0678c62-9262-4f44-bb78-0b9985b4031b",
   "metadata": {},
   "outputs": [],
   "source": []
  },
  {
   "cell_type": "code",
   "execution_count": 7,
   "id": "117889d4-4689-4a73-9d8b-ae3dd4a10822",
   "metadata": {},
   "outputs": [],
   "source": [
    "# With Mean\n",
    "cols = [\"price\", \"quantity\"]\n",
    "data[cols] = data[cols].fillna(data[cols].mean())"
   ]
  },
  {
   "cell_type": "code",
   "execution_count": null,
   "id": "98dc563d-89f0-4d06-a810-8d6a9b281f26",
   "metadata": {},
   "outputs": [],
   "source": []
  },
  {
   "cell_type": "code",
   "execution_count": 8,
   "id": "7233ba0f-de2e-43dd-b9a9-3363558ea21b",
   "metadata": {},
   "outputs": [],
   "source": [
    "#Change Datatype to Category\n",
    "data[\"product\"] = data[\"product\"].astype('category')\n",
    "data[\"category\"] = data[\"category\"].astype('category')"
   ]
  },
  {
   "cell_type": "code",
   "execution_count": null,
   "id": "c60265f9-2e16-468b-9f46-f1524809850e",
   "metadata": {},
   "outputs": [],
   "source": []
  },
  {
   "cell_type": "code",
   "execution_count": 9,
   "id": "096d088e-fc20-4973-820e-87128c838c89",
   "metadata": {},
   "outputs": [
    {
     "name": "stdout",
     "output_type": "stream",
     "text": [
      "<class 'pandas.core.frame.DataFrame'>\n",
      "RangeIndex: 105 entries, 0 to 104\n",
      "Data columns (total 6 columns):\n",
      " #   Column     Non-Null Count  Dtype         \n",
      "---  ------     --------------  -----         \n",
      " 0   id         105 non-null    int64         \n",
      " 1   product    105 non-null    category      \n",
      " 2   category   105 non-null    category      \n",
      " 3   price      105 non-null    float64       \n",
      " 4   quantity   105 non-null    float64       \n",
      " 5   sale_date  84 non-null     datetime64[ns]\n",
      "dtypes: category(2), datetime64[ns](1), float64(2), int64(1)\n",
      "memory usage: 4.5 KB\n"
     ]
    }
   ],
   "source": [
    "data.info()"
   ]
  },
  {
   "cell_type": "code",
   "execution_count": null,
   "id": "426a2ff1-89ae-44bf-b833-57ddc2b9298e",
   "metadata": {},
   "outputs": [],
   "source": []
  },
  {
   "cell_type": "markdown",
   "id": "071ebb5f-cc94-42b9-a9c3-573f513db64c",
   "metadata": {},
   "source": [
    "# Step 3: Create a revenue column (price x quantity)"
   ]
  },
  {
   "cell_type": "code",
   "execution_count": null,
   "id": "5079c8a6-7bbb-4a7d-985a-ebcbf40f969c",
   "metadata": {},
   "outputs": [],
   "source": []
  },
  {
   "cell_type": "code",
   "execution_count": 10,
   "id": "bf27a41e-1e42-443e-a3b6-bdf7ed9436f3",
   "metadata": {},
   "outputs": [],
   "source": [
    "data[\"revenue\"] = data[\"price\"] * data[\"quantity\"]"
   ]
  },
  {
   "cell_type": "code",
   "execution_count": null,
   "id": "ae1233f0-5236-4aa1-8f1f-8ee7fd99c8f3",
   "metadata": {},
   "outputs": [],
   "source": []
  },
  {
   "cell_type": "code",
   "execution_count": 11,
   "id": "99585c3d-4dcd-487a-b541-be0d33401b61",
   "metadata": {},
   "outputs": [
    {
     "data": {
      "text/html": [
       "<div>\n",
       "<style scoped>\n",
       "    .dataframe tbody tr th:only-of-type {\n",
       "        vertical-align: middle;\n",
       "    }\n",
       "\n",
       "    .dataframe tbody tr th {\n",
       "        vertical-align: top;\n",
       "    }\n",
       "\n",
       "    .dataframe thead th {\n",
       "        text-align: right;\n",
       "    }\n",
       "</style>\n",
       "<table border=\"1\" class=\"dataframe\">\n",
       "  <thead>\n",
       "    <tr style=\"text-align: right;\">\n",
       "      <th></th>\n",
       "      <th>id</th>\n",
       "      <th>product</th>\n",
       "      <th>category</th>\n",
       "      <th>price</th>\n",
       "      <th>quantity</th>\n",
       "      <th>sale_date</th>\n",
       "      <th>revenue</th>\n",
       "    </tr>\n",
       "  </thead>\n",
       "  <tbody>\n",
       "    <tr>\n",
       "      <th>0</th>\n",
       "      <td>71</td>\n",
       "      <td>Phone Case</td>\n",
       "      <td>Accessories</td>\n",
       "      <td>253.579231</td>\n",
       "      <td>31.000000</td>\n",
       "      <td>2024-11-04</td>\n",
       "      <td>7860.956154</td>\n",
       "    </tr>\n",
       "    <tr>\n",
       "      <th>1</th>\n",
       "      <td>28</td>\n",
       "      <td>Monitor</td>\n",
       "      <td>Computers</td>\n",
       "      <td>301.120000</td>\n",
       "      <td>28.093023</td>\n",
       "      <td>2024-10-11</td>\n",
       "      <td>8459.371163</td>\n",
       "    </tr>\n",
       "    <tr>\n",
       "      <th>2</th>\n",
       "      <td>92</td>\n",
       "      <td>Keyboard</td>\n",
       "      <td>Accessories</td>\n",
       "      <td>122.680000</td>\n",
       "      <td>29.000000</td>\n",
       "      <td>2024-10-31</td>\n",
       "      <td>3557.720000</td>\n",
       "    </tr>\n",
       "  </tbody>\n",
       "</table>\n",
       "</div>"
      ],
      "text/plain": [
       "   id     product     category       price   quantity  sale_date      revenue\n",
       "0  71  Phone Case  Accessories  253.579231  31.000000 2024-11-04  7860.956154\n",
       "1  28     Monitor    Computers  301.120000  28.093023 2024-10-11  8459.371163\n",
       "2  92    Keyboard  Accessories  122.680000  29.000000 2024-10-31  3557.720000"
      ]
     },
     "execution_count": 11,
     "metadata": {},
     "output_type": "execute_result"
    }
   ],
   "source": [
    "data.head(3)"
   ]
  },
  {
   "cell_type": "code",
   "execution_count": null,
   "id": "c4f4f4ee-4914-4b2f-ba43-ed1e1a7f7908",
   "metadata": {},
   "outputs": [],
   "source": []
  },
  {
   "cell_type": "code",
   "execution_count": 12,
   "id": "bddad9a9-4565-437a-8353-0ddd363d629c",
   "metadata": {},
   "outputs": [],
   "source": [
    "# Extract the Month from the Date Column\n",
    "\n",
    "data[\"month\"] = data[\"sale_date\"].dt.month_name()"
   ]
  },
  {
   "cell_type": "code",
   "execution_count": 13,
   "id": "1f4b03c5-ef9e-4fd7-a7fe-b6e077f6604e",
   "metadata": {},
   "outputs": [
    {
     "data": {
      "text/html": [
       "<div>\n",
       "<style scoped>\n",
       "    .dataframe tbody tr th:only-of-type {\n",
       "        vertical-align: middle;\n",
       "    }\n",
       "\n",
       "    .dataframe tbody tr th {\n",
       "        vertical-align: top;\n",
       "    }\n",
       "\n",
       "    .dataframe thead th {\n",
       "        text-align: right;\n",
       "    }\n",
       "</style>\n",
       "<table border=\"1\" class=\"dataframe\">\n",
       "  <thead>\n",
       "    <tr style=\"text-align: right;\">\n",
       "      <th></th>\n",
       "      <th>id</th>\n",
       "      <th>product</th>\n",
       "      <th>category</th>\n",
       "      <th>price</th>\n",
       "      <th>quantity</th>\n",
       "      <th>sale_date</th>\n",
       "      <th>revenue</th>\n",
       "      <th>month</th>\n",
       "    </tr>\n",
       "  </thead>\n",
       "  <tbody>\n",
       "    <tr>\n",
       "      <th>0</th>\n",
       "      <td>71</td>\n",
       "      <td>Phone Case</td>\n",
       "      <td>Accessories</td>\n",
       "      <td>253.579231</td>\n",
       "      <td>31.000000</td>\n",
       "      <td>2024-11-04</td>\n",
       "      <td>7860.956154</td>\n",
       "      <td>November</td>\n",
       "    </tr>\n",
       "    <tr>\n",
       "      <th>1</th>\n",
       "      <td>28</td>\n",
       "      <td>Monitor</td>\n",
       "      <td>Computers</td>\n",
       "      <td>301.120000</td>\n",
       "      <td>28.093023</td>\n",
       "      <td>2024-10-11</td>\n",
       "      <td>8459.371163</td>\n",
       "      <td>October</td>\n",
       "    </tr>\n",
       "    <tr>\n",
       "      <th>2</th>\n",
       "      <td>92</td>\n",
       "      <td>Keyboard</td>\n",
       "      <td>Accessories</td>\n",
       "      <td>122.680000</td>\n",
       "      <td>29.000000</td>\n",
       "      <td>2024-10-31</td>\n",
       "      <td>3557.720000</td>\n",
       "      <td>October</td>\n",
       "    </tr>\n",
       "    <tr>\n",
       "      <th>3</th>\n",
       "      <td>57</td>\n",
       "      <td>Action Figure</td>\n",
       "      <td>Toys</td>\n",
       "      <td>130.380000</td>\n",
       "      <td>16.000000</td>\n",
       "      <td>2024-10-04</td>\n",
       "      <td>2086.080000</td>\n",
       "      <td>October</td>\n",
       "    </tr>\n",
       "    <tr>\n",
       "      <th>4</th>\n",
       "      <td>70</td>\n",
       "      <td>USB Cable</td>\n",
       "      <td>Accessories</td>\n",
       "      <td>216.030000</td>\n",
       "      <td>40.000000</td>\n",
       "      <td>2024-10-31</td>\n",
       "      <td>8641.200000</td>\n",
       "      <td>October</td>\n",
       "    </tr>\n",
       "    <tr>\n",
       "      <th>5</th>\n",
       "      <td>46</td>\n",
       "      <td>Couch</td>\n",
       "      <td>Furniture</td>\n",
       "      <td>186.000000</td>\n",
       "      <td>17.000000</td>\n",
       "      <td>2024-10-22</td>\n",
       "      <td>3162.000000</td>\n",
       "      <td>October</td>\n",
       "    </tr>\n",
       "    <tr>\n",
       "      <th>6</th>\n",
       "      <td>53</td>\n",
       "      <td>Phone Case</td>\n",
       "      <td>Accessories</td>\n",
       "      <td>436.450000</td>\n",
       "      <td>28.093023</td>\n",
       "      <td>NaT</td>\n",
       "      <td>12261.200000</td>\n",
       "      <td>NaN</td>\n",
       "    </tr>\n",
       "    <tr>\n",
       "      <th>7</th>\n",
       "      <td>9</td>\n",
       "      <td>Chair</td>\n",
       "      <td>Furniture</td>\n",
       "      <td>265.260000</td>\n",
       "      <td>28.093023</td>\n",
       "      <td>NaT</td>\n",
       "      <td>7451.955349</td>\n",
       "      <td>NaN</td>\n",
       "    </tr>\n",
       "    <tr>\n",
       "      <th>8</th>\n",
       "      <td>7</td>\n",
       "      <td>Phone Case</td>\n",
       "      <td>Accessories</td>\n",
       "      <td>253.579231</td>\n",
       "      <td>28.093023</td>\n",
       "      <td>NaT</td>\n",
       "      <td>7123.807227</td>\n",
       "      <td>NaN</td>\n",
       "    </tr>\n",
       "    <tr>\n",
       "      <th>9</th>\n",
       "      <td>3</td>\n",
       "      <td>Doll</td>\n",
       "      <td>Toys</td>\n",
       "      <td>253.579231</td>\n",
       "      <td>27.000000</td>\n",
       "      <td>2024-12-16</td>\n",
       "      <td>6846.639231</td>\n",
       "      <td>December</td>\n",
       "    </tr>\n",
       "  </tbody>\n",
       "</table>\n",
       "</div>"
      ],
      "text/plain": [
       "   id        product     category       price   quantity  sale_date  \\\n",
       "0  71     Phone Case  Accessories  253.579231  31.000000 2024-11-04   \n",
       "1  28        Monitor    Computers  301.120000  28.093023 2024-10-11   \n",
       "2  92       Keyboard  Accessories  122.680000  29.000000 2024-10-31   \n",
       "3  57  Action Figure         Toys  130.380000  16.000000 2024-10-04   \n",
       "4  70      USB Cable  Accessories  216.030000  40.000000 2024-10-31   \n",
       "5  46          Couch    Furniture  186.000000  17.000000 2024-10-22   \n",
       "6  53     Phone Case  Accessories  436.450000  28.093023        NaT   \n",
       "7   9          Chair    Furniture  265.260000  28.093023        NaT   \n",
       "8   7     Phone Case  Accessories  253.579231  28.093023        NaT   \n",
       "9   3           Doll         Toys  253.579231  27.000000 2024-12-16   \n",
       "\n",
       "        revenue     month  \n",
       "0   7860.956154  November  \n",
       "1   8459.371163   October  \n",
       "2   3557.720000   October  \n",
       "3   2086.080000   October  \n",
       "4   8641.200000   October  \n",
       "5   3162.000000   October  \n",
       "6  12261.200000       NaN  \n",
       "7   7451.955349       NaN  \n",
       "8   7123.807227       NaN  \n",
       "9   6846.639231  December  "
      ]
     },
     "execution_count": 13,
     "metadata": {},
     "output_type": "execute_result"
    }
   ],
   "source": [
    "data.head(10)"
   ]
  },
  {
   "cell_type": "code",
   "execution_count": null,
   "id": "8adaf48a-89f2-44c7-b684-e76e42f61ed7",
   "metadata": {},
   "outputs": [],
   "source": []
  },
  {
   "cell_type": "code",
   "execution_count": 14,
   "id": "13421e61-3bfb-40b9-aa44-0dc61922d53a",
   "metadata": {},
   "outputs": [],
   "source": [
    "# With \"Unknown\"\n",
    "\n",
    "data[\"month\"] = data[\"month\"].fillna(\"Unknown\")"
   ]
  },
  {
   "cell_type": "code",
   "execution_count": 15,
   "id": "006a20ed-3602-46aa-bb67-4990bd35a1ae",
   "metadata": {},
   "outputs": [
    {
     "data": {
      "text/html": [
       "<div>\n",
       "<style scoped>\n",
       "    .dataframe tbody tr th:only-of-type {\n",
       "        vertical-align: middle;\n",
       "    }\n",
       "\n",
       "    .dataframe tbody tr th {\n",
       "        vertical-align: top;\n",
       "    }\n",
       "\n",
       "    .dataframe thead th {\n",
       "        text-align: right;\n",
       "    }\n",
       "</style>\n",
       "<table border=\"1\" class=\"dataframe\">\n",
       "  <thead>\n",
       "    <tr style=\"text-align: right;\">\n",
       "      <th></th>\n",
       "      <th>id</th>\n",
       "      <th>product</th>\n",
       "      <th>category</th>\n",
       "      <th>price</th>\n",
       "      <th>quantity</th>\n",
       "      <th>sale_date</th>\n",
       "      <th>revenue</th>\n",
       "      <th>month</th>\n",
       "    </tr>\n",
       "  </thead>\n",
       "  <tbody>\n",
       "    <tr>\n",
       "      <th>0</th>\n",
       "      <td>71</td>\n",
       "      <td>Phone Case</td>\n",
       "      <td>Accessories</td>\n",
       "      <td>253.579231</td>\n",
       "      <td>31.000000</td>\n",
       "      <td>2024-11-04</td>\n",
       "      <td>7860.956154</td>\n",
       "      <td>November</td>\n",
       "    </tr>\n",
       "    <tr>\n",
       "      <th>1</th>\n",
       "      <td>28</td>\n",
       "      <td>Monitor</td>\n",
       "      <td>Computers</td>\n",
       "      <td>301.120000</td>\n",
       "      <td>28.093023</td>\n",
       "      <td>2024-10-11</td>\n",
       "      <td>8459.371163</td>\n",
       "      <td>October</td>\n",
       "    </tr>\n",
       "    <tr>\n",
       "      <th>2</th>\n",
       "      <td>92</td>\n",
       "      <td>Keyboard</td>\n",
       "      <td>Accessories</td>\n",
       "      <td>122.680000</td>\n",
       "      <td>29.000000</td>\n",
       "      <td>2024-10-31</td>\n",
       "      <td>3557.720000</td>\n",
       "      <td>October</td>\n",
       "    </tr>\n",
       "    <tr>\n",
       "      <th>3</th>\n",
       "      <td>57</td>\n",
       "      <td>Action Figure</td>\n",
       "      <td>Toys</td>\n",
       "      <td>130.380000</td>\n",
       "      <td>16.000000</td>\n",
       "      <td>2024-10-04</td>\n",
       "      <td>2086.080000</td>\n",
       "      <td>October</td>\n",
       "    </tr>\n",
       "    <tr>\n",
       "      <th>4</th>\n",
       "      <td>70</td>\n",
       "      <td>USB Cable</td>\n",
       "      <td>Accessories</td>\n",
       "      <td>216.030000</td>\n",
       "      <td>40.000000</td>\n",
       "      <td>2024-10-31</td>\n",
       "      <td>8641.200000</td>\n",
       "      <td>October</td>\n",
       "    </tr>\n",
       "    <tr>\n",
       "      <th>5</th>\n",
       "      <td>46</td>\n",
       "      <td>Couch</td>\n",
       "      <td>Furniture</td>\n",
       "      <td>186.000000</td>\n",
       "      <td>17.000000</td>\n",
       "      <td>2024-10-22</td>\n",
       "      <td>3162.000000</td>\n",
       "      <td>October</td>\n",
       "    </tr>\n",
       "    <tr>\n",
       "      <th>6</th>\n",
       "      <td>53</td>\n",
       "      <td>Phone Case</td>\n",
       "      <td>Accessories</td>\n",
       "      <td>436.450000</td>\n",
       "      <td>28.093023</td>\n",
       "      <td>NaT</td>\n",
       "      <td>12261.200000</td>\n",
       "      <td>Unknown</td>\n",
       "    </tr>\n",
       "    <tr>\n",
       "      <th>7</th>\n",
       "      <td>9</td>\n",
       "      <td>Chair</td>\n",
       "      <td>Furniture</td>\n",
       "      <td>265.260000</td>\n",
       "      <td>28.093023</td>\n",
       "      <td>NaT</td>\n",
       "      <td>7451.955349</td>\n",
       "      <td>Unknown</td>\n",
       "    </tr>\n",
       "    <tr>\n",
       "      <th>8</th>\n",
       "      <td>7</td>\n",
       "      <td>Phone Case</td>\n",
       "      <td>Accessories</td>\n",
       "      <td>253.579231</td>\n",
       "      <td>28.093023</td>\n",
       "      <td>NaT</td>\n",
       "      <td>7123.807227</td>\n",
       "      <td>Unknown</td>\n",
       "    </tr>\n",
       "    <tr>\n",
       "      <th>9</th>\n",
       "      <td>3</td>\n",
       "      <td>Doll</td>\n",
       "      <td>Toys</td>\n",
       "      <td>253.579231</td>\n",
       "      <td>27.000000</td>\n",
       "      <td>2024-12-16</td>\n",
       "      <td>6846.639231</td>\n",
       "      <td>December</td>\n",
       "    </tr>\n",
       "  </tbody>\n",
       "</table>\n",
       "</div>"
      ],
      "text/plain": [
       "   id        product     category       price   quantity  sale_date  \\\n",
       "0  71     Phone Case  Accessories  253.579231  31.000000 2024-11-04   \n",
       "1  28        Monitor    Computers  301.120000  28.093023 2024-10-11   \n",
       "2  92       Keyboard  Accessories  122.680000  29.000000 2024-10-31   \n",
       "3  57  Action Figure         Toys  130.380000  16.000000 2024-10-04   \n",
       "4  70      USB Cable  Accessories  216.030000  40.000000 2024-10-31   \n",
       "5  46          Couch    Furniture  186.000000  17.000000 2024-10-22   \n",
       "6  53     Phone Case  Accessories  436.450000  28.093023        NaT   \n",
       "7   9          Chair    Furniture  265.260000  28.093023        NaT   \n",
       "8   7     Phone Case  Accessories  253.579231  28.093023        NaT   \n",
       "9   3           Doll         Toys  253.579231  27.000000 2024-12-16   \n",
       "\n",
       "        revenue     month  \n",
       "0   7860.956154  November  \n",
       "1   8459.371163   October  \n",
       "2   3557.720000   October  \n",
       "3   2086.080000   October  \n",
       "4   8641.200000   October  \n",
       "5   3162.000000   October  \n",
       "6  12261.200000   Unknown  \n",
       "7   7451.955349   Unknown  \n",
       "8   7123.807227   Unknown  \n",
       "9   6846.639231  December  "
      ]
     },
     "execution_count": 15,
     "metadata": {},
     "output_type": "execute_result"
    }
   ],
   "source": [
    "data.head(10)"
   ]
  },
  {
   "cell_type": "code",
   "execution_count": null,
   "id": "931777f5-28c9-4a50-a017-85c96187276d",
   "metadata": {},
   "outputs": [],
   "source": []
  },
  {
   "cell_type": "markdown",
   "id": "c36e88a7-ccd4-4f7e-85a2-4ed0ade9a0fc",
   "metadata": {},
   "source": [
    "# Step 4: Basic NumPy Stats"
   ]
  },
  {
   "cell_type": "code",
   "execution_count": null,
   "id": "4cac4ebb-4b42-4228-9ced-6c18d7c4b9a6",
   "metadata": {},
   "outputs": [],
   "source": []
  },
  {
   "cell_type": "code",
   "execution_count": 16,
   "id": "2d49eab0-3807-45f7-9b42-3579d5fbe930",
   "metadata": {},
   "outputs": [
    {
     "name": "stdout",
     "output_type": "stream",
     "text": [
      "Average price: 253.5792307692308\n",
      "Highest price: 492.96\n",
      "Lowest price: 20.35\n"
     ]
    }
   ],
   "source": [
    "prices = data[\"price\"].to_numpy()\n",
    "print(\"Average price:\", np.mean(prices))\n",
    "print(\"Highest price:\", np.max(prices))\n",
    "print(\"Lowest price:\", np.min(prices))"
   ]
  },
  {
   "cell_type": "code",
   "execution_count": null,
   "id": "30c751b5-0735-4ed7-817a-1bc297c33dcd",
   "metadata": {},
   "outputs": [],
   "source": []
  },
  {
   "cell_type": "markdown",
   "id": "ef8e6b63-d716-4783-a5a1-8153d9f19726",
   "metadata": {},
   "source": [
    "# Step 5: Group Data with Pandas"
   ]
  },
  {
   "cell_type": "code",
   "execution_count": null,
   "id": "1de71066-6435-44c9-a87e-55f81c3d8531",
   "metadata": {},
   "outputs": [],
   "source": []
  },
  {
   "cell_type": "code",
   "execution_count": 17,
   "id": "75469c93-35a8-4685-ab32-e1b9e3e1d341",
   "metadata": {},
   "outputs": [
    {
     "data": {
      "text/plain": [
       "category\n",
       "Accessories    134111.274597\n",
       "Computers      212264.080483\n",
       "Electronics     96442.133077\n",
       "Furniture      147901.483184\n",
       "Toys           172833.409070\n",
       "Name: revenue, dtype: float64"
      ]
     },
     "execution_count": 17,
     "metadata": {},
     "output_type": "execute_result"
    }
   ],
   "source": [
    "# Revenue by Category\n",
    "\n",
    "data.groupby(\"category\", observed=True)[\"revenue\"].sum()"
   ]
  },
  {
   "cell_type": "code",
   "execution_count": null,
   "id": "c298693c-38e3-45aa-9506-dc60b7eb15c0",
   "metadata": {},
   "outputs": [],
   "source": []
  },
  {
   "cell_type": "code",
   "execution_count": 18,
   "id": "40b63d19-f66a-4a11-8d05-b7b768184551",
   "metadata": {},
   "outputs": [
    {
     "data": {
      "text/plain": [
       "product\n",
       "Board Game    64868.936512\n",
       "Monitor       57848.709928\n",
       "Desktop       48405.504866\n",
       "Desk          46003.846744\n",
       "Headphones    43054.501538\n",
       "Name: revenue, dtype: float64"
      ]
     },
     "execution_count": 18,
     "metadata": {},
     "output_type": "execute_result"
    }
   ],
   "source": [
    "# Top Product by Revenue\n",
    "\n",
    "data.groupby(\"product\", observed=True)[\"revenue\"].sum().sort_values(ascending=False).head(5)"
   ]
  },
  {
   "cell_type": "code",
   "execution_count": null,
   "id": "8b3f925b-d50a-4bbf-b671-d657e1129497",
   "metadata": {},
   "outputs": [],
   "source": []
  },
  {
   "cell_type": "markdown",
   "id": "d1c035ea-d5ff-4379-8ba7-ce390594d165",
   "metadata": {},
   "source": [
    "# **Step 6: Monthly Revenue Trend**"
   ]
  },
  {
   "cell_type": "code",
   "execution_count": null,
   "id": "0d948d00-0fd6-48ce-ab9c-af4319626032",
   "metadata": {},
   "outputs": [],
   "source": []
  },
  {
   "cell_type": "code",
   "execution_count": 19,
   "id": "2d52b560-2a48-4b33-ac1b-75dd0e85a6fc",
   "metadata": {},
   "outputs": [
    {
     "data": {
      "text/plain": [
       "month\n",
       "April         38978.093846\n",
       "August        59790.977227\n",
       "December     108869.960555\n",
       "February      85555.141324\n",
       "January      100433.818122\n",
       "July           9300.367227\n",
       "June          78817.316154\n",
       "March         11457.690000\n",
       "May            7605.960000\n",
       "November      22888.727692\n",
       "October       86169.481163\n",
       "September      6398.480000\n",
       "Unknown      147286.367102\n",
       "Name: revenue, dtype: float64"
      ]
     },
     "execution_count": 19,
     "metadata": {},
     "output_type": "execute_result"
    }
   ],
   "source": [
    "# Revenue by Month\n",
    "data.groupby(\"month\", observed=True)[\"revenue\"].sum()"
   ]
  },
  {
   "cell_type": "code",
   "execution_count": null,
   "id": "092e31d9-7297-4cbb-85f3-ba6d0eb836c7",
   "metadata": {},
   "outputs": [],
   "source": []
  },
  {
   "cell_type": "code",
   "execution_count": 20,
   "id": "7d90c3de-2ab6-41ee-8833-dadfad675d2a",
   "metadata": {},
   "outputs": [
    {
     "data": {
      "text/plain": [
       "month\n",
       "Unknown     147286.367102\n",
       "December    108869.960555\n",
       "January     100433.818122\n",
       "October      86169.481163\n",
       "Name: revenue, dtype: float64"
      ]
     },
     "execution_count": 20,
     "metadata": {},
     "output_type": "execute_result"
    }
   ],
   "source": [
    "# Highest Revenue by Month\n",
    "\n",
    "data.groupby(\"month\", observed=True)[\"revenue\"].sum().sort_values(ascending=False).head(4)"
   ]
  },
  {
   "cell_type": "code",
   "execution_count": null,
   "id": "ec3237cd-1053-4b5b-b26f-b6b7bc0eaf4f",
   "metadata": {},
   "outputs": [],
   "source": []
  },
  {
   "cell_type": "code",
   "execution_count": null,
   "id": "4f2f6e34-9cc3-4662-bb1f-d9655a91c204",
   "metadata": {},
   "outputs": [],
   "source": []
  },
  {
   "cell_type": "markdown",
   "id": "4a7b006f-a021-49eb-a5f0-f8f091527906",
   "metadata": {},
   "source": [
    "# **Step 7: Visualization with Matplotlib**"
   ]
  },
  {
   "cell_type": "code",
   "execution_count": null,
   "id": "bd4fa7c5-e921-46ce-b9d2-c3a669b2ca7b",
   "metadata": {},
   "outputs": [],
   "source": []
  },
  {
   "cell_type": "code",
   "execution_count": 21,
   "id": "e037869e-51b8-45b7-ba14-a0ec69312b75",
   "metadata": {},
   "outputs": [
    {
     "data": {
      "image/png": "[encoded data removed]",
      "text/plain": [
       "<Figure size 1200x600 with 1 Axes>"
      ]
     },
     "metadata": {},
     "output_type": "display_data"
    }
   ],
   "source": [
    "# Revenue by Category\n",
    "revenue_by_category = data.groupby(\"category\", observed=True)[\"revenue\"].sum()\n",
    "\n",
    "plt.figure(figsize=(12, 6))\n",
    "\n",
    "plt.bar(revenue_by_category.index, revenue_by_category.values, color='skyblue')\n",
    "plt.title(\"Revenue by Category\")\n",
    "plt.ylabel(\"Revenue\")\n",
    "plt.xticks(rotation=45)\n",
    "plt.show()"
   ]
  },
  {
   "attachments": {},
   "cell_type": "markdown",
   "id": "543da512-2a4e-4adc-8560-71ccc67ac8be",
   "metadata": {},
   "source": [
    "# 1. 1. Revenue by Category\n",
    "Key Observations:\n",
    "\t• Computers is the highest revenue-generating category, exceeding $210,000.\n",
    "\t• Toys and Furniture follow closely, both earning between $170,000–$180,000.\n",
    "\t• Accessories sits in the mid-range at around $135,000.\n",
    "\t• Electronics generates the lowest revenue, just under $100,000.\n",
    "Analysis:\n",
    "\t• The dominance of Computers suggests strong performance in high-ticket items like desktops and monitors.\n",
    "\t• Toys being in the top three may indicate either volume-driven sales or popular, high-margin products.\n",
    "\t• Electronics underperformance could be due to lower sales volume, high return rates, or pricing issues.\n",
    "\t• Inventory prioritization and category-specific promotions should focus on Computers and Toys.\n",
    "\t• Electronics may need a strategic review: reassess pricing, bundles, or product mix.\n"
   ]
  },
  {
   "cell_type": "code",
   "execution_count": null,
   "id": "47abd5b9-aa5c-4af6-97ee-332d62f9727d",
   "metadata": {},
   "outputs": [],
   "source": []
  },
  {
   "cell_type": "code",
   "execution_count": 22,
   "id": "1bd5799d-76b0-4e58-88a7-ed651926fe75",
   "metadata": {},
   "outputs": [
    {
     "data": {
      "image/png": "[encoded data removed]",
      "text/plain": [
       "<Figure size 1200x600 with 1 Axes>"
      ]
     },
     "metadata": {},
     "output_type": "display_data"
    }
   ],
   "source": [
    "# Top Products by Revenue\n",
    "top_products = (\n",
    "    data.groupby(\"product\", observed=True)[\"revenue\"]\n",
    "        .sum()\n",
    "        .sort_values(ascending=False)\n",
    "        .head()\n",
    ")\n",
    "\n",
    "plt.figure(figsize=(12, 6))\n",
    "\n",
    "plt.barh(top_products.index, top_products.values, color='orange')\n",
    "plt.title(\"Top 5 Products by Revenue\")\n",
    "plt.xlabel(\"Revenue\")\n",
    "plt.show()"
   ]
  },
  {
   "cell_type": "code",
   "execution_count": null,
   "id": "33195bc8-35c3-4739-849e-3fe42ac010b0",
   "metadata": {},
   "outputs": [],
   "source": []
  },
  {
   "cell_type": "markdown",
   "id": "38e0f6b3-cf21-47d4-9f6d-ba687750a275",
   "metadata": {},
   "source": [
    "# 2. Top 5 Products by Revenue\n",
    "\n",
    "### Products Ranked by Revenue:\n",
    "1. Board Game (Top performer)  \n",
    "2. Monitor  \n",
    "3. Desktop  \n",
    "4. Desk  \n",
    "5. Headphones  \n",
    "\n",
    "### Analysis:\n",
    "- Board Game leading in revenue suggests it has either:\n",
    "  - A high unit price  \n",
    "  - High sales volume  \n",
    "  - Or both — possibly a bundled or seasonal product  \n",
    "- Monitor and Desktop align with the Computers category's performance, reinforcing its dominance.  \n",
    "- The presence of Desk and Headphones indicates demand for both work-from-home and entertainment-oriented accessories.  \n",
    "- Consider promotional bundles (e.g., Desktop + Monitor, or Desk + Headphones).  \n",
    "- These top 5 products should be highlighted in marketing and prioritized in stock planning."
   ]
  },
  {
   "cell_type": "code",
   "execution_count": null,
   "id": "8cf66027-dc86-4d10-a84f-19d0344be7e3",
   "metadata": {},
   "outputs": [],
   "source": []
  },
  {
   "cell_type": "code",
   "execution_count": 23,
   "id": "675190a2-543c-49f2-975e-09917ad58480",
   "metadata": {},
   "outputs": [
    {
     "data": {
      "image/png": "[encoded data removed]",
      "text/plain": [
       "<Figure size 1200x600 with 1 Axes>"
      ]
     },
     "metadata": {},
     "output_type": "display_data"
    }
   ],
   "source": [
    "# Monthly Revenue Trend\n",
    "monthly_revenue = data.groupby(\"month\", observed=True)[\"revenue\"].sum()\n",
    "\n",
    "plt.figure(figsize=(12, 6))\n",
    "\n",
    "plt.plot(monthly_revenue.index, monthly_revenue.values, marker='o', color='green')\n",
    "plt.title(\"Monthly Revenue Trend\")\n",
    "plt.ylabel(\"Revenue\")\n",
    "plt.xlabel(\"Month\")\n",
    "plt.show()"
   ]
  },
  {
   "cell_type": "code",
   "execution_count": null,
   "id": "28ad7408-e875-4bcd-a991-af55561b47bf",
   "metadata": {},
   "outputs": [],
   "source": []
  },
  {
   "attachments": {},
   "cell_type": "markdown",
   "id": "fd4e70d0-6936-44ad-90f4-0af22d83bedd",
   "metadata": {},
   "source": [
    "# 3. Monthly Revenue Trend\n",
    "\n",
    "### Key Observations:\n",
    "- Revenue shows high volatility month-to-month.  \n",
    "- Peak revenue occurs in the \"Unknown\" category, likely due to:\n",
    "  - Missing or malformed date values  \n",
    "  - Requires fixing at data level  \n",
    "- Legitimate months with strong revenue:\n",
    "  - December, January, and June  \n",
    "- Lows appear in May, March, and September  \n",
    "\n",
    "### Analysis:\n",
    "- The December-January peak suggests strong holiday season sales, which is typical in retail.  \n",
    "- June may correlate with mid-year promotions or clearance cycles.  \n",
    "- Low revenue in May and September could be attributed to seasonality or weaker campaigns.  \n",
    "- The \"Unknown\" category must be cleaned — those sales should be redistributed to valid months.  \n",
    "- A seasonality model could help optimize stock and promotions throughout the year."
   ]
  },
  {
   "cell_type": "code",
   "execution_count": null,
   "id": "a33cf6ee-9c2e-4754-9884-5fb62302540a",
   "metadata": {},
   "outputs": [],
   "source": []
  },
  {
   "cell_type": "markdown",
   "id": "3416f555-a765-4ec2-8c62-da290f14b84f",
   "metadata": {},
   "source": [
    "# Strategic Recommendations for Skyline Gadgets\n",
    "\n",
    "## 1. Product Category Strategy\n",
    "\n",
    "### a. Computers (Highest Revenue Category)\n",
    "- Action: Maintain strong inventory levels for desktops, monitors, and related accessories.  \n",
    "- Reasoning: This category drives the most revenue and is backed by multiple top-selling products.  \n",
    "- Next Steps:\n",
    "  - Expand variety (e.g., different price tiers or specs).  \n",
    "  - Consider upselling and cross-selling strategies (e.g., bundling computers with accessories).  \n",
    "  - Monitor return rates or customer satisfaction to ensure quality is not a limiting factor.  \n",
    "\n",
    "### b. Toys (Top 3 Revenue Category)\n",
    "- Action: Treat this category as a seasonal growth lever.  \n",
    "- Reasoning: Likely benefits from Q4 holiday demand and could be volume-driven.  \n",
    "- Next Steps:\n",
    "  - Identify top-selling SKUs within the Toys category.  \n",
    "  - Align promotions with holiday campaigns (e.g., Black Friday, Christmas).  \n",
    "  - Analyze margins — high volume does not always imply high profit.  \n",
    "\n",
    "### c. Electronics (Lowest Revenue Category)\n",
    "- Action: Conduct a diagnostic review.  \n",
    "- Reasoning: Underperforms despite likely overlap with consumer demand.  \n",
    "- Next Steps:\n",
    "  - Audit products under this category: identify low sellers, stockouts, or pricing mismatches.  \n",
    "  - Compare views-to-purchases (if web analytics is available).  \n",
    "  - Consider repositioning or phasing out certain SKUs.  \n",
    "\n",
    "## 2. Product-Level Strategy\n",
    "\n",
    "### a. Board Game (Top Product)\n",
    "- Action: Leverage as a hero product in marketing and bundling.  \n",
    "- Reasoning: Highest revenue indicates strong demand or wide appeal.  \n",
    "- Next Steps:\n",
    "  - Bundle with complementary items (e.g., Toys or Accessories).  \n",
    "  - Feature in seasonal promotions, especially during Q4.  \n",
    "  - Monitor inventory levels closely to avoid stockouts.  \n",
    "\n",
    "### b. Monitor, Desktop, Desk, Headphones\n",
    "- Action: Develop themed bundles for productivity or entertainment.  \n",
    "- Reasoning: These products span both Computers and Home Office themes.  \n",
    "- Next Steps:\n",
    "  - Create “Work-from-Home Kits” or “Gaming Starter Packs.”  \n",
    "  - Run limited-time offers on bundles to increase average order value (AOV).  \n",
    "  - Track bundle performance versus individual SKU sales to assess cannibalization risk.  \n",
    "\n",
    "## 3. Monthly Trends & Seasonality\n",
    "\n",
    "### a. December, January, June (High Revenue Months)\n",
    "- Action: Plan and front-load inventory in advance of these months.  \n",
    "- Reasoning: Consistent sales spikes in these months indicate cyclical demand.  \n",
    "- Next Steps:\n",
    "  - Start marketing at least 4–6 weeks ahead of these peaks.  \n",
    "  - Offer early-bird discounts or exclusive bundles for early buyers.  \n",
    "  - Use this data to simulate revenue forecasts for upcoming cycles.  \n",
    "\n",
    "### b. May, March, September (Low Revenue Months)\n",
    "- Action: Run data-driven promotions to lift revenue in down months.  \n",
    "- Reasoning: These are missed revenue opportunities.  \n",
    "- Next Steps:\n",
    "  - Introduce flash sales, loyalty perks, or clearance campaigns.  \n",
    "  - Test ad performance with small budgets before scaling.  \n",
    "  - Collaborate with influencers or email campaigns to boost visibility.  \n",
    "\n",
    "### c. \"Unknown\" Month Values\n",
    "- Action: Address missing or unformatted date entries in the dataset.  \n",
    "- Reasoning: A large number of transactions are not contributing to the correct monthly insights.  \n",
    "- Next Steps:\n",
    "  - Use Excel or pandas to correct malformed dates.  \n",
    "  - If original timestamps are lost, at least tag entries with estimated month from backup sources (if possible).  \n",
    "  - Re-run monthly analysis after data is corrected.  \n",
    "\n",
    "## 4. Operational & Reporting Enhancements\n",
    "\n",
    "### a. Export and Track Cleaned Metrics\n",
    "- Automate exports of:\n",
    "  - Monthly revenue summaries  \n",
    "  - Category-level and product-level revenue breakdowns  \n",
    "- Store summaries in a shared repository (Google Drive, SharePoint, GitHub, etc.)  \n",
    "- Use versioning to track changes over time and spot anomalies early.  \n",
    "\n",
    "### b. Invest in Dashboarding\n",
    "- Move from static charts to live dashboards (e.g., Power BI, Google Data Studio, Tableau).  \n",
    "- Benefits:\n",
    "  - Real-time visibility for non-technical team members  \n",
    "  - Easier performance tracking by month or campaign  \n",
    "- Include filters for time, category, and product.  \n",
    "\n",
    "## 5. Data Quality and Governance\n",
    "\n",
    "### a. Data Validation at Entry\n",
    "- Ensure future sales files have:\n",
    "  - Valid date formats (YYYY-MM-DD)  \n",
    "  - No missing prices or quantities  \n",
    "  - Cleaned category and product names (no duplicates caused by typos)  \n",
    "\n",
    "### b. Data Schema\n",
    "- Create a data dictionary that defines:\n",
    "  - Valid values for each field  \n",
    "  - Expected formats  \n",
    "  - Required fields  \n",
    "- Use validation rules in Excel or upstream systems to prevent future issues.  \n",
    "\n",
    "---\n"
   ]
  },
  {
   "cell_type": "code",
   "execution_count": null,
   "id": "8f134e69-91f2-414a-977f-5f1e0e44f540",
   "metadata": {},
   "outputs": [],
   "source": []
  },
  {
   "cell_type": "code",
   "execution_count": null,
   "id": "33e96480-4ad0-4074-93dc-0108d7824175",
   "metadata": {},
   "outputs": [],
   "source": []
  }
 ],
 "metadata": {
  "kernelspec": {
   "display_name": "Python [conda env:base] *",
   "language": "python",
   "name": "conda-base-py"
  },
  "language_info": {
   "codemirror_mode": {
    "name": "ipython",
    "version": 3
   },
   "file_extension": ".py",
   "mimetype": "text/x-python",
   "name": "python",
   "nbconvert_exporter": "python",
   "pygments_lexer": "ipython3",
   "version": "3.12.7"
  }
 },
 "nbformat": 4,
 "nbformat_minor": 5
}
